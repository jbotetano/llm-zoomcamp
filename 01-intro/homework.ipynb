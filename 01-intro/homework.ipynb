{
 "cells": [
  {
   "cell_type": "code",
   "execution_count": 6,
   "id": "facf11a2-870e-4a35-89ab-e65ba908f403",
   "metadata": {},
   "outputs": [],
   "source": [
    "import pandas as pd\n",
    "import os"
   ]
  },
  {
   "cell_type": "code",
   "execution_count": 7,
   "id": "76315859-a18d-4f19-9330-005cf9d885a6",
   "metadata": {},
   "outputs": [],
   "source": [
    "#import openai"
   ]
  },
  {
   "cell_type": "code",
   "execution_count": 9,
   "id": "a42d1cde-7196-49fd-9962-d89a07eb4b88",
   "metadata": {},
   "outputs": [],
   "source": [
    "#from openai import OpenAI\n",
    "\n",
    "\n",
    "from mistralai import Mistral\n",
    "\n",
    "api_key = os.environ[\"MISTRAL_API_KEY\"]\n",
    "model = \"mistral-large-latest\"\n",
    "\n",
    "client = Mistral(api_key=api_key)"
   ]
  },
  {
   "cell_type": "code",
   "execution_count": 16,
   "id": "d439e2c1-3daa-4c12-8a5a-c2939fa3a2e0",
   "metadata": {},
   "outputs": [],
   "source": [
    "# code for OpenAI\n",
    "#client=OpenAI(api_key='')"
   ]
  },
  {
   "cell_type": "code",
   "execution_count": 17,
   "id": "6f662c98-3e74-4d3f-b94e-55a9717da454",
   "metadata": {},
   "outputs": [],
   "source": [
    "response = client.chat.complete(\n",
    "    model = model,\n",
    "    messages = [\n",
    "        {\n",
    "            \"role\": \"user\",\n",
    "            \"content\": \"Is it too late to join the course?\",\n",
    "        },\n",
    "    ]\n",
    ")"
   ]
  },
  {
   "cell_type": "code",
   "execution_count": 18,
   "id": "11b6945f-fdfd-428d-b3bd-6b03d5ef5d28",
   "metadata": {},
   "outputs": [
    {
     "data": {
      "text/plain": [
       "ChatCompletionResponse(id='88b6926f666a4b9694f93f5827a2d13f', object='chat.completion', model='mistral-large-latest', usage=UsageInfo(prompt_tokens=12, completion_tokens=233, total_tokens=245), created=1723995710, choices=[ChatCompletionChoice(index=0, finish_reason='stop', message=AssistantMessage(content=\"To determine if it's too late to join a course, consider the following factors:\\n\\n1. **Enrollment Deadline**: Check if the enrollment deadline has passed. If it hasn't, you can still join.\\n\\n2. **Course Duration and Progress**: If the course has already started, find out how much of the course you've missed. If it's only been a short time, you might still be able to catch up.\\n\\n3. **Instructor or Institution Policy**: Some instructors or institutions allow late enrollment, while others don't. Check their policy or contact them to ask.\\n\\n4. **Prerequisites**: If you've missed any prerequisites or important introductory material, it might be difficult to join late.\\n\\n5. **Your Schedule and Commitment**: Consider if you have the time and commitment to catch up and keep up with the coursework.\\n\\nIf you're still unsure, it's always a good idea to contact the course instructor or institution for advice tailored to your specific situation.\", tool_calls=None, prefix=False, role='assistant'))])"
      ]
     },
     "execution_count": 18,
     "metadata": {},
     "output_type": "execute_result"
    }
   ],
   "source": [
    "response"
   ]
  }
 ],
 "metadata": {
  "kernelspec": {
   "display_name": "Python 3 (ipykernel)",
   "language": "python",
   "name": "python3"
  },
  "language_info": {
   "codemirror_mode": {
    "name": "ipython",
    "version": 3
   },
   "file_extension": ".py",
   "mimetype": "text/x-python",
   "name": "python",
   "nbconvert_exporter": "python",
   "pygments_lexer": "ipython3",
   "version": "3.10.13"
  }
 },
 "nbformat": 4,
 "nbformat_minor": 5
}
